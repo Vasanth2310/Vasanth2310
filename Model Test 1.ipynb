{
 "cells": [
  {
   "cell_type": "code",
   "execution_count": 1,
   "metadata": {},
   "outputs": [
    {
     "name": "stdout",
     "output_type": "stream",
     "text": [
      "WARNING:tensorflow:From c:\\Users\\Vasanth Kumar C\\AppData\\Local\\Programs\\Python\\Python311\\Lib\\site-packages\\keras\\src\\losses.py:2976: The name tf.losses.sparse_softmax_cross_entropy is deprecated. Please use tf.compat.v1.losses.sparse_softmax_cross_entropy instead.\n",
      "\n"
     ]
    }
   ],
   "source": [
    "import cv2\n",
    "from keras.models import load_model\n",
    "from PIL import Image\n",
    "import numpy as np\n",
    "import gradio as gr\n",
    "import matplotlib.pyplot as plt"
   ]
  },
  {
   "cell_type": "code",
   "execution_count": 2,
   "metadata": {},
   "outputs": [
    {
     "name": "stdout",
     "output_type": "stream",
     "text": [
      "WARNING:tensorflow:From c:\\Users\\Vasanth Kumar C\\AppData\\Local\\Programs\\Python\\Python311\\Lib\\site-packages\\keras\\src\\backend.py:1398: The name tf.executing_eagerly_outside_functions is deprecated. Please use tf.compat.v1.executing_eagerly_outside_functions instead.\n",
      "\n",
      "WARNING:tensorflow:From c:\\Users\\Vasanth Kumar C\\AppData\\Local\\Programs\\Python\\Python311\\Lib\\site-packages\\keras\\src\\layers\\pooling\\max_pooling2d.py:161: The name tf.nn.max_pool is deprecated. Please use tf.nn.max_pool2d instead.\n",
      "\n"
     ]
    }
   ],
   "source": [
    "model = load_model('D://Projects//Brain Tumor Detection using Gradio//BrainTumor10EpochsCategorical.h5')"
   ]
  },
  {
   "cell_type": "code",
   "execution_count": 3,
   "metadata": {},
   "outputs": [],
   "source": [
    "def predict(input_img):\n",
    "    \n",
    "    input_img=Image.fromarray(input_img)\n",
    "    input_img=input_img.resize((64,64))\n",
    "    input_img=np.array(input_img)\n",
    "\n",
    "    input_img=np.expand_dims(input_img, axis=0)\n",
    "\n",
    "    result = model.predict(input_img)\n",
    "    classes = np.argmax(result, axis=-1)\n",
    "\n",
    "    plt.figure(figsize=(6,4))\n",
    "    plt.bar([\"No\", \"Yes\"], result[0])\n",
    "    plt.title(\"Analysis of Brain Tumor\")\n",
    "    plt.xlabel(\"Classes\")\n",
    "    plt.ylabel(\"Probability\")\n",
    "    plt.savefig(\"prediction_graph.png\")\n",
    "\n",
    "    if (classes==[0]): \n",
    "        return \"There is NO symptoms of Brain Tumor. The Patient is Safe\", \"prediction_graph.png\"\n",
    "    else:\n",
    "        return \"The Patient has Brain Tumor. Please consult the Doctor as soon as possible.\", \"prediction_graph.png\"\n"
   ]
  },
  {
   "cell_type": "code",
   "execution_count": 5,
   "metadata": {},
   "outputs": [
    {
     "name": "stdout",
     "output_type": "stream",
     "text": [
      "Running on local URL:  http://127.0.0.1:7861\n",
      "Running on public URL: https://0e1ce98941b0b46cef.gradio.live\n",
      "\n",
      "This share link expires in 72 hours. For free permanent hosting and GPU upgrades, run `gradio deploy` from Terminal to deploy to Spaces (https://huggingface.co/spaces)\n"
     ]
    },
    {
     "data": {
      "text/html": [
       "<div><iframe src=\"https://0e1ce98941b0b46cef.gradio.live\" width=\"100%\" height=\"500\" allow=\"autoplay; camera; microphone; clipboard-read; clipboard-write;\" frameborder=\"0\" allowfullscreen></iframe></div>"
      ],
      "text/plain": [
       "<IPython.core.display.HTML object>"
      ]
     },
     "metadata": {},
     "output_type": "display_data"
    },
    {
     "data": {
      "text/plain": []
     },
     "execution_count": 5,
     "metadata": {},
     "output_type": "execute_result"
    }
   ],
   "source": [
    "iface = gr.Interface(predict, \n",
    "                     inputs=gr.Image(), \n",
    "                     outputs=[\"textbox\", \"image\"],  \n",
    "                     title=\"N.O.B.A.R.A (Neuroimaging Observation for Brain Anomaly Recognition Algorithm)\",\n",
    "                     description=\"N.O.B.A.R.A is an advanced AI model revolutionizing brain tumor detection in MRI scans. Utilizing cutting-edge algorithms and deep learning, it swiftly and accurately identifies anomalies, offering a promising tool for early intervention, improved patient outcomes, and streamlined clinical workflows in neuroimaging diagnostics. Provide me the scan to check the results\",)\n",
    "\n",
    "# Launch the interface\n",
    "iface.launch(share=True)"
   ]
  }
 ],
 "metadata": {
  "kernelspec": {
   "display_name": "Python 3",
   "language": "python",
   "name": "python3"
  },
  "language_info": {
   "codemirror_mode": {
    "name": "ipython",
    "version": 3
   },
   "file_extension": ".py",
   "mimetype": "text/x-python",
   "name": "python",
   "nbconvert_exporter": "python",
   "pygments_lexer": "ipython3",
   "version": "3.11.6"
  }
 },
 "nbformat": 4,
 "nbformat_minor": 2
}
